{
 "cells": [
  {
   "cell_type": "markdown",
   "id": "bc9ace86",
   "metadata": {},
   "source": [
    "#  Steps with Python andFirst Jupyter \n",
    "\n",
    "![](https://i.imgur.com/gvSnw4A.png)\n",
    "\n"
   ]
  },
  {
   "cell_type": "markdown",
   "id": "b9bd5df6",
   "metadata": {},
   "source": [
    "## Performing Arithmetic Operations using Python\n"
   ]
  },
  {
   "cell_type": "code",
   "execution_count": 1,
   "id": "f68a487d",
   "metadata": {},
   "outputs": [
    {
     "data": {
      "text/plain": [
       "121"
      ]
     },
     "execution_count": 1,
     "metadata": {},
     "output_type": "execute_result"
    }
   ],
   "source": [
    "34 + 53 + 34  "
   ]
  },
  {
   "cell_type": "code",
   "execution_count": 2,
   "id": "21174bba",
   "metadata": {},
   "outputs": [
    {
     "data": {
      "text/plain": [
       "26"
      ]
     },
     "execution_count": 2,
     "metadata": {},
     "output_type": "execute_result"
    }
   ],
   "source": [
    "34 - 8"
   ]
  },
  {
   "cell_type": "code",
   "execution_count": 3,
   "id": "f5bec8fc",
   "metadata": {},
   "outputs": [
    {
     "data": {
      "text/plain": [
       "-94406.6"
      ]
     },
     "execution_count": 3,
     "metadata": {},
     "output_type": "execute_result"
    }
   ],
   "source": [
    "47.56 * - 1985"
   ]
  },
  {
   "cell_type": "code",
   "execution_count": 4,
   "id": "73577622",
   "metadata": {},
   "outputs": [
    {
     "data": {
      "text/plain": [
       "21.428571428571427"
      ]
     },
     "execution_count": 4,
     "metadata": {},
     "output_type": "execute_result"
    }
   ],
   "source": [
    "300 / 14 "
   ]
  },
  {
   "cell_type": "code",
   "execution_count": 8,
   "id": "2843e4dc",
   "metadata": {},
   "outputs": [
    {
     "data": {
      "text/plain": [
       "21"
      ]
     },
     "execution_count": 8,
     "metadata": {},
     "output_type": "execute_result"
    }
   ],
   "source": [
    "300 // 14 \n",
    "# by using // operator it will remove the float point number and give us only integer"
   ]
  },
  {
   "cell_type": "code",
   "execution_count": 6,
   "id": "c012e68c",
   "metadata": {},
   "outputs": [
    {
     "data": {
      "text/plain": [
       "6"
      ]
     },
     "execution_count": 6,
     "metadata": {},
     "output_type": "execute_result"
    }
   ],
   "source": [
    "300 % 14 # it will give us only remainder of the divison"
   ]
  },
  {
   "cell_type": "code",
   "execution_count": 9,
   "id": "34ecb307",
   "metadata": {},
   "outputs": [
    {
     "data": {
      "text/plain": [
       "343"
      ]
     },
     "execution_count": 9,
     "metadata": {},
     "output_type": "execute_result"
    }
   ],
   "source": [
    "7 ** 3 #it will give us the 7 to the power 3 (7*7*7()"
   ]
  },
  {
   "cell_type": "markdown",
   "id": "732bc9ba",
   "metadata": {},
   "source": [
    "You can use parentheses, i.e. ( and ), to specify the order in which operations are performed."
   ]
  },
  {
   "cell_type": "code",
   "execution_count": 10,
   "id": "e08948f4",
   "metadata": {},
   "outputs": [
    {
     "data": {
      "text/plain": [
       "-0.002685546875"
      ]
     },
     "execution_count": 10,
     "metadata": {},
     "output_type": "execute_result"
    }
   ],
   "source": [
    "((3 + 8) * (4 -8)) / (4 ** 7)"
   ]
  },
  {
   "cell_type": "markdown",
   "id": "1e490c52",
   "metadata": {},
   "source": [
    "Python supports the following arithmetic operators:\n",
    "\n",
    "| Operator   | Purpose           | Example     | Result    |\n",
    "|------------|-------------------|-------------|-----------|\n",
    "| `+`        | Addition          | `2 + 3`     | `5`       |\n",
    "| `-`        | Subtraction       | `3 - 2`     | `1`       |\n",
    "| `*`        | Multiplication    | `8 * 12`    | `96`      |\n",
    "| `/`        | Division          | `100 / 7`   | `14.28..` |\n",
    "| `//`       | Floor Division    | `100 // 7`  | `14`      |    \n",
    "| `%`        | Modulus/Remainder | `100 % 7`   | `2`       |\n",
    "| `**`       | Exponent          | `5 ** 3`    | `125`     |\n",
    "\n",
    "\n",
    "Try solving some simple problems from this page:\n",
    "https://www.math-only-math.com/worksheet-on-word-problems-on-four-operations.html . \n",
    "\n",
    "You can use the empty cells below and add more cells if required."
   ]
  },
  {
   "cell_type": "markdown",
   "id": "ffe912eb",
   "metadata": {},
   "source": [
    "# Solving multi-step problems using variables"
   ]
  },
  {
   "cell_type": "markdown",
   "id": "634ea7bd",
   "metadata": {},
   "source": [
    "A grocery store sells a bag of ice for $1.25 and makes a 20% profit. If it sells 500 bags of ice, how much total profit does it make?"
   ]
  },
  {
   "cell_type": "markdown",
   "id": "2968106b",
   "metadata": {},
   "source": [
    "Thus, the grocery store makes a total profit of $125. While this is a reasonable way to solve a problem, it's not entirely clear by looking at the code cell what the numbers represent. We can give names to each of the numbers by creating Python *variables*.\n",
    "\n",
    "> **Variables**: While working with a programming language such as Python, information is stored in *variables*. You can think of variables as containers for storing data. The data stored within a variable is called its *value*."
   ]
  },
  {
   "cell_type": "code",
   "execution_count": 11,
   "id": "41573a37",
   "metadata": {},
   "outputs": [],
   "source": [
    "cost_of_ice_bag = 1.25 "
   ]
  },
  {
   "cell_type": "code",
   "execution_count": 12,
   "id": "0bdce4fb",
   "metadata": {},
   "outputs": [],
   "source": [
    "profit_margin = .2"
   ]
  },
  {
   "cell_type": "code",
   "execution_count": 13,
   "id": "ce488685",
   "metadata": {},
   "outputs": [],
   "source": [
    "number_of_bags = 500"
   ]
  },
  {
   "cell_type": "code",
   "execution_count": 14,
   "id": "a2ad5cca",
   "metadata": {},
   "outputs": [
    {
     "data": {
      "text/plain": [
       "0.2"
      ]
     },
     "execution_count": 14,
     "metadata": {},
     "output_type": "execute_result"
    }
   ],
   "source": [
    "profit_margin"
   ]
  },
  {
   "cell_type": "code",
   "execution_count": 15,
   "id": "bb14431b",
   "metadata": {},
   "outputs": [],
   "source": [
    "profit_per_bag = cost_of_ice_bag * profit_margin"
   ]
  },
  {
   "cell_type": "code",
   "execution_count": 16,
   "id": "03372072",
   "metadata": {},
   "outputs": [
    {
     "data": {
      "text/plain": [
       "0.25"
      ]
     },
     "execution_count": 16,
     "metadata": {},
     "output_type": "execute_result"
    }
   ],
   "source": [
    "profit_per_bag"
   ]
  },
  {
   "cell_type": "code",
   "execution_count": 17,
   "id": "b3bbb76b",
   "metadata": {},
   "outputs": [],
   "source": [
    "total_profit = number_of_bags * profit_per_bag"
   ]
  },
  {
   "cell_type": "code",
   "execution_count": 18,
   "id": "f0df1660",
   "metadata": {},
   "outputs": [
    {
     "data": {
      "text/plain": [
       "125.0"
      ]
     },
     "execution_count": 18,
     "metadata": {},
     "output_type": "execute_result"
    }
   ],
   "source": [
    "total_profit"
   ]
  },
  {
   "cell_type": "markdown",
   "id": "e25de384",
   "metadata": {},
   "source": [
    "Storing and manipulating data using appropriately named variables is a great way to explain what your code does.\n",
    "\n",
    "Let's display the result of the word problem using a friendly message. We can do this using the `print` *function*.\n",
    "\n",
    "> **Functions**: A function is a reusable set of instructions. It takes one or more inputs, performs certain operations, and often returns an output. Python provides many in-built functions like `print` and also allows us to define our own functions."
   ]
  },
  {
   "cell_type": "code",
   "execution_count": 19,
   "id": "d4c6b5a9",
   "metadata": {},
   "outputs": [
    {
     "name": "stdout",
     "output_type": "stream",
     "text": [
      "The grocery store makes a total profit of $ 125.0\n"
     ]
    }
   ],
   "source": [
    "print(\"The grocery store makes a total profit of $\", total_profit) "
   ]
  },
  {
   "cell_type": "markdown",
   "id": "ad07fc5f",
   "metadata": {},
   "source": [
    "> **`print`**: The `print` function is used to display information. It takes one or more inputs, which can be text (within quotes, e.g., `\"this is some text\"`), numbers, variables, mathematical expressions, etc. We'll learn more about variables & functions in the next tutorial.\n",
    "\n",
    "Creating a code cell for each variable or mathematical operation can get tedious. Fortunately, Jupyter allows you to write multiple lines of code within a single code cell. The result of the last line of code within the cell is displayed as the output. \n",
    "\n",
    "Let's rewrite the solution to our word problem within a single cell."
   ]
  },
  {
   "cell_type": "code",
   "execution_count": 20,
   "id": "efdb1855",
   "metadata": {},
   "outputs": [
    {
     "name": "stdout",
     "output_type": "stream",
     "text": [
      "The grocery store makes a total profit of $ 125.0\n"
     ]
    }
   ],
   "source": [
    "#Store input data in variables\n",
    "cost_of_ice_bag = 1.25\n",
    "profit_margin = .2\n",
    "number_of_bags = 500\n",
    "\n",
    "#Perfrom the required calculations\n",
    "profit_per_bag  =  cost_of_ice_bag * profit_margin\n",
    "total_profit = number_of_bags * profit_per_bag\n",
    "\n",
    "#Display the result\n",
    "print(\"The grocery store makes a total profit of $\", total_profit) "
   ]
  },
  {
   "cell_type": "markdown",
   "id": "a716477b",
   "metadata": {},
   "source": [
    "Note that we're using the `#` character to add *comments* within our code. \n",
    "\n",
    "> **Comments**: Comments and blank lines are ignored during execution of code, but they are useful for providing information to humans (including yourself) about what the code does. Comments can be inline (at the end of some code), on a separate line, or even span multiple lines. \n",
    "\n",
    "Inline and single-line comments start with `#`, whereas multi-line comments begin and end with three quotes, i.e. `\"\"\"`. Here are some examples of code comments:"
   ]
  },
  {
   "cell_type": "code",
   "execution_count": 22,
   "id": "b84261e1",
   "metadata": {},
   "outputs": [],
   "source": [
    "my_favourtie_car_number = 7 # an inline comment"
   ]
  },
  {
   "cell_type": "code",
   "execution_count": 24,
   "id": "2c12e214",
   "metadata": {},
   "outputs": [],
   "source": [
    "\"\"\"This is a multi-line comment.\n",
    "Write as little or as much as you'd like.\n",
    "\n",
    "Comments are really helpful for people reading\n",
    "your code, but try to keep them short & to-the-point.\n",
    "\n",
    "Also, if you use good variable names, then your code is\n",
    "often self explanatory, and you may not even need comments!\n",
    "\"\"\"\n",
    "a_neutral_car_number = 5"
   ]
  },
  {
   "cell_type": "markdown",
   "id": "0be5d3fa",
   "metadata": {},
   "source": [
    "\n",
    "\n",
    "> **EXERCISE**: A travel company wants to fly a plane to the Bahamas. Flying the plane costs 5000 dollars. So far, 29 people have signed up for the trip. If the company charges 200 dollars per ticket, what is the profit made by the company? Create variables for each numeric quantity and use appropriate arithmetic operations."
   ]
  },
  {
   "cell_type": "code",
   "execution_count": 33,
   "id": "8d860c2f",
   "metadata": {},
   "outputs": [
    {
     "name": "stdout",
     "output_type": "stream",
     "text": [
      "The profit made by the company is  800\n"
     ]
    }
   ],
   "source": [
    "cost_of_flying = 5000\n",
    "people_sign_up = 29\n",
    "per_ticket_charge = 200\n",
    "\n",
    "total_money = people_sign_up * per_ticket_charge \n",
    "\n",
    "profit_made_by_company = total_money - cost_of_flying\n",
    "\n",
    "print(\"The profit made by the company is \", profit_made_by_company)"
   ]
  },
  {
   "cell_type": "markdown",
   "id": "bf39ed96",
   "metadata": {},
   "source": [
    "## Evaluating conditions using Python\n",
    "\n",
    "Apart from arithmetic operations, Python also provides several operations for comparing numbers & variables.\n",
    "\n",
    "| Operator    | Description                                                     |\n",
    "|-------------|-----------------------------------------------------------------|\n",
    "| `==`        | Check if operands are equal                                     |\n",
    "| `!=`        | Check if operands are not equal                                 |\n",
    "| `>`         | Check if left operand is greater than right operand             |\n",
    "| `<`         | Check if left operand is less than right operand                |\n",
    "| `>=`        | Check if left operand is greater than or equal to right operand |\n",
    "| `<=`        | Check if left operand is less than or equal to right operand    |\n",
    "\n",
    "The result of a comparison operation is either `True` or `False` (note the uppercase `T` and `F`). These are special keywords in Python. Let's try out some experiments with comparison operators."
   ]
  },
  {
   "cell_type": "code",
   "execution_count": 34,
   "id": "73f89d89",
   "metadata": {},
   "outputs": [],
   "source": [
    "my_jersy_number = 32\n",
    "my_pant_number = 34\n",
    "my_shoes_number  = 8"
   ]
  },
  {
   "cell_type": "code",
   "execution_count": 35,
   "id": "10f9b0ae",
   "metadata": {},
   "outputs": [
    {
     "data": {
      "text/plain": [
       "True"
      ]
     },
     "execution_count": 35,
     "metadata": {},
     "output_type": "execute_result"
    }
   ],
   "source": [
    "#Equality check - True\n",
    "my_jersy_number == 32"
   ]
  },
  {
   "cell_type": "code",
   "execution_count": 36,
   "id": "896e900a",
   "metadata": {},
   "outputs": [
    {
     "data": {
      "text/plain": [
       "False"
      ]
     },
     "execution_count": 36,
     "metadata": {},
     "output_type": "execute_result"
    }
   ],
   "source": [
    "#Equality check - False\n",
    "my_jersy_number == my_pant_number"
   ]
  },
  {
   "cell_type": "code",
   "execution_count": 39,
   "id": "ed8fdb93",
   "metadata": {},
   "outputs": [
    {
     "data": {
      "text/plain": [
       "True"
      ]
     },
     "execution_count": 39,
     "metadata": {},
     "output_type": "execute_result"
    }
   ],
   "source": [
    "# Not equal check - True\n",
    "my_jersy_number != my_shoes_number"
   ]
  },
  {
   "cell_type": "code",
   "execution_count": 41,
   "id": "cdacb8b9",
   "metadata": {},
   "outputs": [
    {
     "data": {
      "text/plain": [
       "False"
      ]
     },
     "execution_count": 41,
     "metadata": {},
     "output_type": "execute_result"
    }
   ],
   "source": [
    "# Not equal check - False\n",
    "my_shoes_number != 8"
   ]
  },
  {
   "cell_type": "code",
   "execution_count": 42,
   "id": "2dc43bee",
   "metadata": {},
   "outputs": [
    {
     "data": {
      "text/plain": [
       "True"
      ]
     },
     "execution_count": 42,
     "metadata": {},
     "output_type": "execute_result"
    }
   ],
   "source": [
    "# Greater than check - True\n",
    "my_pant_number > my_shoes_number"
   ]
  },
  {
   "cell_type": "code",
   "execution_count": 43,
   "id": "fcffe943",
   "metadata": {},
   "outputs": [
    {
     "data": {
      "text/plain": [
       "False"
      ]
     },
     "execution_count": 43,
     "metadata": {},
     "output_type": "execute_result"
    }
   ],
   "source": [
    "# Greater than check - False\n",
    "my_jersy_number > my_pant_number"
   ]
  },
  {
   "cell_type": "code",
   "execution_count": 44,
   "id": "29cf7818",
   "metadata": {},
   "outputs": [
    {
     "data": {
      "text/plain": [
       "True"
      ]
     },
     "execution_count": 44,
     "metadata": {},
     "output_type": "execute_result"
    }
   ],
   "source": [
    "# Less than check - True\n",
    "my_jersy_number < 57"
   ]
  },
  {
   "cell_type": "code",
   "execution_count": 47,
   "id": "2a949622",
   "metadata": {},
   "outputs": [
    {
     "data": {
      "text/plain": [
       "False"
      ]
     },
     "execution_count": 47,
     "metadata": {},
     "output_type": "execute_result"
    }
   ],
   "source": [
    "# Less than check - False\n",
    "my_pant_number < my_jersy_number "
   ]
  },
  {
   "cell_type": "code",
   "execution_count": 48,
   "id": "663fc9c1",
   "metadata": {},
   "outputs": [
    {
     "data": {
      "text/plain": [
       "True"
      ]
     },
     "execution_count": 48,
     "metadata": {},
     "output_type": "execute_result"
    }
   ],
   "source": [
    "# Greater than or equal check - True\n",
    "my_jersy_number >= 32"
   ]
  },
  {
   "cell_type": "code",
   "execution_count": 49,
   "id": "eb87dec5",
   "metadata": {},
   "outputs": [
    {
     "data": {
      "text/plain": [
       "False"
      ]
     },
     "execution_count": 49,
     "metadata": {},
     "output_type": "execute_result"
    }
   ],
   "source": [
    "# Greater than or equal check - False\n",
    "my_jersy_number >= 79"
   ]
  },
  {
   "cell_type": "code",
   "execution_count": 50,
   "id": "8da610bb",
   "metadata": {},
   "outputs": [
    {
     "data": {
      "text/plain": [
       "True"
      ]
     },
     "execution_count": 50,
     "metadata": {},
     "output_type": "execute_result"
    }
   ],
   "source": [
    "# Less than or equal check - True\n",
    "3 + 6 <= 9"
   ]
  },
  {
   "cell_type": "code",
   "execution_count": 51,
   "id": "ed3b104c",
   "metadata": {},
   "outputs": [
    {
     "data": {
      "text/plain": [
       "False"
      ]
     },
     "execution_count": 51,
     "metadata": {},
     "output_type": "execute_result"
    }
   ],
   "source": [
    "# Less than or equal check - False\n",
    "my_jersy_number + my_shoes_number <= 3"
   ]
  },
  {
   "cell_type": "markdown",
   "id": "040cfdb4",
   "metadata": {},
   "source": [
    "Just like arithmetic operations, the result of a comparison operation can also be stored in a variable."
   ]
  },
  {
   "cell_type": "code",
   "execution_count": 53,
   "id": "de0188ae",
   "metadata": {},
   "outputs": [
    {
     "name": "stdout",
     "output_type": "stream",
     "text": [
      "Is the ice bag is expensive ?  False\n"
     ]
    }
   ],
   "source": [
    "cost_of_ice_bag = 1.25\n",
    "is_ice_bag_expensive = cost_of_ice_bag >= 10\n",
    "print(\"Is the ice bag is expensive ? \" , is_ice_bag_expensive)"
   ]
  },
  {
   "cell_type": "markdown",
   "id": "75851451",
   "metadata": {},
   "source": [
    " ## Combining conditions with logical operators\n",
    "\n",
    "The logical operators `and`, `or` and `not` operate upon conditions and `True` & `False` values (also known as *booleans*). `and` and `or` operate on two conditions, whereas `not` operates on a single condition.\n",
    "\n",
    "The `and` operator returns `True` when both the conditions evaluate to `True`. Otherwise, it returns `False`.\n",
    "\n",
    "| `a`     | `b`    | `a and b` |\n",
    "|---------|--------|-----------|\n",
    "|  `True` | `True` | `True`    |\n",
    "|  `True` | `False`| `False`   |\n",
    "|  `False`| `True` | `False`   |\n",
    "|  `False`| `False`| `False`   |\n"
   ]
  },
  {
   "cell_type": "code",
   "execution_count": 2,
   "id": "d220420c",
   "metadata": {},
   "outputs": [
    {
     "data": {
      "text/plain": [
       "32"
      ]
     },
     "execution_count": 2,
     "metadata": {},
     "output_type": "execute_result"
    }
   ],
   "source": [
    "my_jersy_number = 32\n",
    "my_pant_number = 34\n",
    "my_shoes_number  = 8\n",
    "\n",
    "my_jersy_number"
   ]
  },
  {
   "cell_type": "code",
   "execution_count": 6,
   "id": "b57fe93d",
   "metadata": {},
   "outputs": [
    {
     "data": {
      "text/plain": [
       "False"
      ]
     },
     "execution_count": 6,
     "metadata": {},
     "output_type": "execute_result"
    }
   ],
   "source": [
    "my_jersy_number < 0"
   ]
  },
  {
   "cell_type": "code",
   "execution_count": 4,
   "id": "7d3f1a7c",
   "metadata": {},
   "outputs": [
    {
     "data": {
      "text/plain": [
       "True"
      ]
     },
     "execution_count": 4,
     "metadata": {},
     "output_type": "execute_result"
    }
   ],
   "source": [
    "my_jersy_number <= 32"
   ]
  },
  {
   "cell_type": "code",
   "execution_count": 5,
   "id": "d20af346",
   "metadata": {},
   "outputs": [
    {
     "data": {
      "text/plain": [
       "True"
      ]
     },
     "execution_count": 5,
     "metadata": {},
     "output_type": "execute_result"
    }
   ],
   "source": [
    "my_jersy_number >0 and my_jersy_number <=32"
   ]
  },
  {
   "cell_type": "code",
   "execution_count": 7,
   "id": "bf42e20f",
   "metadata": {},
   "outputs": [
    {
     "data": {
      "text/plain": [
       "False"
      ]
     },
     "execution_count": 7,
     "metadata": {},
     "output_type": "execute_result"
    }
   ],
   "source": [
    "my_jersy_number <0 and my_jersy_number <=32"
   ]
  },
  {
   "cell_type": "markdown",
   "id": "2cc98c17",
   "metadata": {},
   "source": [
    "The `or` operator returns `True` if at least one of the conditions evaluates to `True`. It returns `False` only if both conditions are `False`.\n",
    "\n",
    "| `a`     | `b`    | `a or b`  |\n",
    "|---------|--------|-----------|\n",
    "|  `True` | `True` | `True`    |\n",
    "|  `True` | `False`| `True`    |\n",
    "|  `False`| `True` | `True`    |\n",
    "|  `False`| `False`| `False`   |\n"
   ]
  },
  {
   "cell_type": "code",
   "execution_count": 8,
   "id": "7b0c1131",
   "metadata": {},
   "outputs": [
    {
     "data": {
      "text/plain": [
       "False"
      ]
     },
     "execution_count": 8,
     "metadata": {},
     "output_type": "execute_result"
    }
   ],
   "source": [
    "my_pant_number == 32 or my_jersy_number < 0"
   ]
  },
  {
   "cell_type": "code",
   "execution_count": 9,
   "id": "b2c6f9be",
   "metadata": {},
   "outputs": [
    {
     "data": {
      "text/plain": [
       "True"
      ]
     },
     "execution_count": 9,
     "metadata": {},
     "output_type": "execute_result"
    }
   ],
   "source": [
    "my_pant_number != 32 or my_jersy_number < 0"
   ]
  },
  {
   "cell_type": "code",
   "execution_count": 10,
   "id": "4d6b4c23",
   "metadata": {},
   "outputs": [
    {
     "data": {
      "text/plain": [
       "True"
      ]
     },
     "execution_count": 10,
     "metadata": {},
     "output_type": "execute_result"
    }
   ],
   "source": [
    "my_jersy_number <0 or True "
   ]
  },
  {
   "cell_type": "code",
   "execution_count": 11,
   "id": "63881568",
   "metadata": {},
   "outputs": [
    {
     "data": {
      "text/plain": [
       "False"
      ]
     },
     "execution_count": 11,
     "metadata": {},
     "output_type": "execute_result"
    }
   ],
   "source": [
    "False or False"
   ]
  },
  {
   "cell_type": "markdown",
   "id": "4d568a21",
   "metadata": {},
   "source": [
    "The `not` operator returns `False` if a condition is `True` and `True` if the condition is `False`."
   ]
  },
  {
   "cell_type": "code",
   "execution_count": 12,
   "id": "d17faff7",
   "metadata": {},
   "outputs": [
    {
     "data": {
      "text/plain": [
       "False"
      ]
     },
     "execution_count": 12,
     "metadata": {},
     "output_type": "execute_result"
    }
   ],
   "source": [
    "not my_jersy_number == 32 "
   ]
  },
  {
   "cell_type": "code",
   "execution_count": 13,
   "id": "375698a4",
   "metadata": {},
   "outputs": [
    {
     "data": {
      "text/plain": [
       "True"
      ]
     },
     "execution_count": 13,
     "metadata": {},
     "output_type": "execute_result"
    }
   ],
   "source": [
    "not my_jersy_number < 0"
   ]
  },
  {
   "cell_type": "code",
   "execution_count": 15,
   "id": "1b1495b9",
   "metadata": {},
   "outputs": [
    {
     "data": {
      "text/plain": [
       "True"
      ]
     },
     "execution_count": 15,
     "metadata": {},
     "output_type": "execute_result"
    }
   ],
   "source": [
    "not False"
   ]
  },
  {
   "cell_type": "code",
   "execution_count": 16,
   "id": "de5bee93",
   "metadata": {},
   "outputs": [
    {
     "data": {
      "text/plain": [
       "False"
      ]
     },
     "execution_count": 16,
     "metadata": {},
     "output_type": "execute_result"
    }
   ],
   "source": [
    "not True"
   ]
  },
  {
   "cell_type": "markdown",
   "id": "ad7b6ef1",
   "metadata": {},
   "source": [
    "Logical operators can be combined to form complex conditions. Use round brackets or parentheses `(` and `)` to indicate the order in which logical operators should be applied."
   ]
  },
  {
   "cell_type": "code",
   "execution_count": 17,
   "id": "21540c8b",
   "metadata": {},
   "outputs": [
    {
     "data": {
      "text/plain": [
       "True"
      ]
     },
     "execution_count": 17,
     "metadata": {},
     "output_type": "execute_result"
    }
   ],
   "source": [
    "(2 > 3 and 4<=5) or not (my_jersy_number <0 and True)"
   ]
  },
  {
   "cell_type": "markdown",
   "id": "842b1344",
   "metadata": {},
   "source": [
    "If parentheses are not used, logical operators are applied from left to right."
   ]
  },
  {
   "cell_type": "code",
   "execution_count": 18,
   "id": "16144b65",
   "metadata": {},
   "outputs": [
    {
     "data": {
      "text/plain": [
       "False"
      ]
     },
     "execution_count": 18,
     "metadata": {},
     "output_type": "execute_result"
    }
   ],
   "source": [
    "not True and 0 < 1 or False and True"
   ]
  },
  {
   "cell_type": "markdown",
   "id": "3f00c282",
   "metadata": {},
   "source": [
    "Experiment with arithmetic, conditional and logical operators in Python using the interactive nature of Jupyter notebooks. We will learn more about variables and functions in future tutorials.\n",
    "\n",
    "There is also a ternary operator in Python. Learn about it here: https://data-flair.training/blogs/python-ternary-operator/"
   ]
  }
 ],
 "metadata": {
  "kernelspec": {
   "display_name": "Python 3 (ipykernel)",
   "language": "python",
   "name": "python3"
  },
  "language_info": {
   "codemirror_mode": {
    "name": "ipython",
    "version": 3
   },
   "file_extension": ".py",
   "mimetype": "text/x-python",
   "name": "python",
   "nbconvert_exporter": "python",
   "pygments_lexer": "ipython3",
   "version": "3.11.4"
  }
 },
 "nbformat": 4,
 "nbformat_minor": 5
}
